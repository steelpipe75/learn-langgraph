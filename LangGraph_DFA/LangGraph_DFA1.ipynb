{
  "nbformat": 4,
  "nbformat_minor": 0,
  "metadata": {
    "colab": {
      "provenance": []
    },
    "kernelspec": {
      "name": "python3",
      "display_name": "Python 3"
    },
    "language_info": {
      "name": "python"
    }
  },
  "cells": [
    {
      "cell_type": "code",
      "source": [
        "!pip install langgraph"
      ],
      "metadata": {
        "colab": {
          "base_uri": "https://localhost:8080/"
        },
        "id": "o_o54KXP_xdV",
        "outputId": "dd12fca3-db94-4c9e-9f1d-761879d3d524"
      },
      "execution_count": 1,
      "outputs": [
        {
          "output_type": "stream",
          "name": "stdout",
          "text": [
            "Collecting langgraph\n",
            "  Downloading langgraph-0.4.1-py3-none-any.whl.metadata (7.9 kB)\n",
            "Requirement already satisfied: langchain-core>=0.1 in /usr/local/lib/python3.11/dist-packages (from langgraph) (0.3.56)\n",
            "Collecting langgraph-checkpoint<3.0.0,>=2.0.10 (from langgraph)\n",
            "  Downloading langgraph_checkpoint-2.0.25-py3-none-any.whl.metadata (4.6 kB)\n",
            "Collecting langgraph-prebuilt>=0.1.8 (from langgraph)\n",
            "  Downloading langgraph_prebuilt-0.1.8-py3-none-any.whl.metadata (5.0 kB)\n",
            "Collecting langgraph-sdk>=0.1.42 (from langgraph)\n",
            "  Downloading langgraph_sdk-0.1.66-py3-none-any.whl.metadata (1.8 kB)\n",
            "Requirement already satisfied: pydantic>=2.7.4 in /usr/local/lib/python3.11/dist-packages (from langgraph) (2.11.3)\n",
            "Collecting xxhash<4.0.0,>=3.5.0 (from langgraph)\n",
            "  Downloading xxhash-3.5.0-cp311-cp311-manylinux_2_17_x86_64.manylinux2014_x86_64.whl.metadata (12 kB)\n",
            "Requirement already satisfied: langsmith<0.4,>=0.1.125 in /usr/local/lib/python3.11/dist-packages (from langchain-core>=0.1->langgraph) (0.3.38)\n",
            "Requirement already satisfied: tenacity!=8.4.0,<10.0.0,>=8.1.0 in /usr/local/lib/python3.11/dist-packages (from langchain-core>=0.1->langgraph) (9.1.2)\n",
            "Requirement already satisfied: jsonpatch<2.0,>=1.33 in /usr/local/lib/python3.11/dist-packages (from langchain-core>=0.1->langgraph) (1.33)\n",
            "Requirement already satisfied: PyYAML>=5.3 in /usr/local/lib/python3.11/dist-packages (from langchain-core>=0.1->langgraph) (6.0.2)\n",
            "Requirement already satisfied: packaging<25,>=23.2 in /usr/local/lib/python3.11/dist-packages (from langchain-core>=0.1->langgraph) (24.2)\n",
            "Requirement already satisfied: typing-extensions>=4.7 in /usr/local/lib/python3.11/dist-packages (from langchain-core>=0.1->langgraph) (4.13.2)\n",
            "Collecting ormsgpack<2.0.0,>=1.8.0 (from langgraph-checkpoint<3.0.0,>=2.0.10->langgraph)\n",
            "  Downloading ormsgpack-1.9.1-cp311-cp311-manylinux_2_17_x86_64.manylinux2014_x86_64.whl.metadata (43 kB)\n",
            "\u001b[2K     \u001b[90m━━━━━━━━━━━━━━━━━━━━━━━━━━━━━━━━━━━━━━━━\u001b[0m \u001b[32m43.5/43.5 kB\u001b[0m \u001b[31m1.4 MB/s\u001b[0m eta \u001b[36m0:00:00\u001b[0m\n",
            "\u001b[?25hRequirement already satisfied: httpx>=0.25.2 in /usr/local/lib/python3.11/dist-packages (from langgraph-sdk>=0.1.42->langgraph) (0.28.1)\n",
            "Requirement already satisfied: orjson>=3.10.1 in /usr/local/lib/python3.11/dist-packages (from langgraph-sdk>=0.1.42->langgraph) (3.10.17)\n",
            "Requirement already satisfied: annotated-types>=0.6.0 in /usr/local/lib/python3.11/dist-packages (from pydantic>=2.7.4->langgraph) (0.7.0)\n",
            "Requirement already satisfied: pydantic-core==2.33.1 in /usr/local/lib/python3.11/dist-packages (from pydantic>=2.7.4->langgraph) (2.33.1)\n",
            "Requirement already satisfied: typing-inspection>=0.4.0 in /usr/local/lib/python3.11/dist-packages (from pydantic>=2.7.4->langgraph) (0.4.0)\n",
            "Requirement already satisfied: anyio in /usr/local/lib/python3.11/dist-packages (from httpx>=0.25.2->langgraph-sdk>=0.1.42->langgraph) (4.9.0)\n",
            "Requirement already satisfied: certifi in /usr/local/lib/python3.11/dist-packages (from httpx>=0.25.2->langgraph-sdk>=0.1.42->langgraph) (2025.4.26)\n",
            "Requirement already satisfied: httpcore==1.* in /usr/local/lib/python3.11/dist-packages (from httpx>=0.25.2->langgraph-sdk>=0.1.42->langgraph) (1.0.9)\n",
            "Requirement already satisfied: idna in /usr/local/lib/python3.11/dist-packages (from httpx>=0.25.2->langgraph-sdk>=0.1.42->langgraph) (3.10)\n",
            "Requirement already satisfied: h11>=0.16 in /usr/local/lib/python3.11/dist-packages (from httpcore==1.*->httpx>=0.25.2->langgraph-sdk>=0.1.42->langgraph) (0.16.0)\n",
            "Requirement already satisfied: jsonpointer>=1.9 in /usr/local/lib/python3.11/dist-packages (from jsonpatch<2.0,>=1.33->langchain-core>=0.1->langgraph) (3.0.0)\n",
            "Requirement already satisfied: requests<3,>=2 in /usr/local/lib/python3.11/dist-packages (from langsmith<0.4,>=0.1.125->langchain-core>=0.1->langgraph) (2.32.3)\n",
            "Requirement already satisfied: requests-toolbelt<2.0.0,>=1.0.0 in /usr/local/lib/python3.11/dist-packages (from langsmith<0.4,>=0.1.125->langchain-core>=0.1->langgraph) (1.0.0)\n",
            "Requirement already satisfied: zstandard<0.24.0,>=0.23.0 in /usr/local/lib/python3.11/dist-packages (from langsmith<0.4,>=0.1.125->langchain-core>=0.1->langgraph) (0.23.0)\n",
            "Requirement already satisfied: charset-normalizer<4,>=2 in /usr/local/lib/python3.11/dist-packages (from requests<3,>=2->langsmith<0.4,>=0.1.125->langchain-core>=0.1->langgraph) (3.4.1)\n",
            "Requirement already satisfied: urllib3<3,>=1.21.1 in /usr/local/lib/python3.11/dist-packages (from requests<3,>=2->langsmith<0.4,>=0.1.125->langchain-core>=0.1->langgraph) (2.4.0)\n",
            "Requirement already satisfied: sniffio>=1.1 in /usr/local/lib/python3.11/dist-packages (from anyio->httpx>=0.25.2->langgraph-sdk>=0.1.42->langgraph) (1.3.1)\n",
            "Downloading langgraph-0.4.1-py3-none-any.whl (151 kB)\n",
            "\u001b[2K   \u001b[90m━━━━━━━━━━━━━━━━━━━━━━━━━━━━━━━━━━━━━━━━\u001b[0m \u001b[32m151.2/151.2 kB\u001b[0m \u001b[31m3.8 MB/s\u001b[0m eta \u001b[36m0:00:00\u001b[0m\n",
            "\u001b[?25hDownloading langgraph_checkpoint-2.0.25-py3-none-any.whl (42 kB)\n",
            "\u001b[2K   \u001b[90m━━━━━━━━━━━━━━━━━━━━━━━━━━━━━━━━━━━━━━━━\u001b[0m \u001b[32m42.3/42.3 kB\u001b[0m \u001b[31m2.3 MB/s\u001b[0m eta \u001b[36m0:00:00\u001b[0m\n",
            "\u001b[?25hDownloading langgraph_prebuilt-0.1.8-py3-none-any.whl (25 kB)\n",
            "Downloading langgraph_sdk-0.1.66-py3-none-any.whl (47 kB)\n",
            "\u001b[2K   \u001b[90m━━━━━━━━━━━━━━━━━━━━━━━━━━━━━━━━━━━━━━━━\u001b[0m \u001b[32m47.6/47.6 kB\u001b[0m \u001b[31m3.1 MB/s\u001b[0m eta \u001b[36m0:00:00\u001b[0m\n",
            "\u001b[?25hDownloading xxhash-3.5.0-cp311-cp311-manylinux_2_17_x86_64.manylinux2014_x86_64.whl (194 kB)\n",
            "\u001b[2K   \u001b[90m━━━━━━━━━━━━━━━━━━━━━━━━━━━━━━━━━━━━━━━━\u001b[0m \u001b[32m194.8/194.8 kB\u001b[0m \u001b[31m12.5 MB/s\u001b[0m eta \u001b[36m0:00:00\u001b[0m\n",
            "\u001b[?25hDownloading ormsgpack-1.9.1-cp311-cp311-manylinux_2_17_x86_64.manylinux2014_x86_64.whl (223 kB)\n",
            "\u001b[2K   \u001b[90m━━━━━━━━━━━━━━━━━━━━━━━━━━━━━━━━━━━━━━━━\u001b[0m \u001b[32m223.6/223.6 kB\u001b[0m \u001b[31m16.9 MB/s\u001b[0m eta \u001b[36m0:00:00\u001b[0m\n",
            "\u001b[?25hInstalling collected packages: xxhash, ormsgpack, langgraph-sdk, langgraph-checkpoint, langgraph-prebuilt, langgraph\n",
            "Successfully installed langgraph-0.4.1 langgraph-checkpoint-2.0.25 langgraph-prebuilt-0.1.8 langgraph-sdk-0.1.66 ormsgpack-1.9.1 xxhash-3.5.0\n"
          ]
        }
      ]
    },
    {
      "cell_type": "code",
      "source": [
        "!pip install grandalf"
      ],
      "metadata": {
        "colab": {
          "base_uri": "https://localhost:8080/"
        },
        "id": "LN4sD5btEyAa",
        "outputId": "c9f94909-eb59-458a-fc87-529fb84ded94"
      },
      "execution_count": 2,
      "outputs": [
        {
          "output_type": "stream",
          "name": "stdout",
          "text": [
            "Collecting grandalf\n",
            "  Downloading grandalf-0.8-py3-none-any.whl.metadata (1.7 kB)\n",
            "Requirement already satisfied: pyparsing in /usr/local/lib/python3.11/dist-packages (from grandalf) (3.2.3)\n",
            "Downloading grandalf-0.8-py3-none-any.whl (41 kB)\n",
            "\u001b[2K   \u001b[90m━━━━━━━━━━━━━━━━━━━━━━━━━━━━━━━━━━━━━━━━\u001b[0m \u001b[32m41.8/41.8 kB\u001b[0m \u001b[31m1.9 MB/s\u001b[0m eta \u001b[36m0:00:00\u001b[0m\n",
            "\u001b[?25hInstalling collected packages: grandalf\n",
            "Successfully installed grandalf-0.8\n"
          ]
        }
      ]
    },
    {
      "cell_type": "code",
      "source": [
        "from typing_extensions import TypedDict\n",
        "from langgraph.graph import StateGraph\n",
        "\n",
        "class State(TypedDict):\n",
        "    input: str\n",
        "    state: str\n",
        "\n",
        "def even(state: State):\n",
        "    print(f\"even : {state['input']}\")\n",
        "    return {\"input\": state[\"input\"], \"state\": \"even\" }\n",
        "\n",
        "def odd(state: State):\n",
        "    print(f\"odd  :  {state['input']}\")\n",
        "    return {\"input\": state[\"input\"], \"state\": \"even\"}\n",
        "\n",
        "def even_step(state: State):\n",
        "    print(f\"even_step : {state['input'][1:]}\")\n",
        "    return {\"input\": state[\"input\"][1:], \"state\": \"even_step\"}\n",
        "\n",
        "def odd_step(state: State):\n",
        "    print(f\"odd_step  :  {state['input'][1:]}\")\n",
        "    return {\"input\": state[\"input\"][1:], \"state\": \"odd_step\"}\n",
        "\n",
        "def accept(state: State):\n",
        "    print(f\"accept  :  {state['input']}\")\n",
        "    return {\"input\": \"\", \"state\": \"accept\"}\n",
        "\n",
        "def reject(state: State):\n",
        "    print(f\"reject  :  {state['input']}\")\n",
        "    return {\"input\": \"\", \"state\": \"reject\"}\n",
        "\n",
        "def routing_even(state: State):\n",
        "    print(f\"routing_even :  {state['input']}\")\n",
        "\n",
        "    if state[\"input\"] == \"\":\n",
        "        return \"accept\"\n",
        "\n",
        "    crr_char = state[\"input\"][0]\n",
        "\n",
        "    if crr_char == \"1\":\n",
        "        return \"odd_step\"\n",
        "    elif crr_char == \"0\":\n",
        "        return \"even_step\"\n",
        "    else:\n",
        "        return \"reject\"\n",
        "\n",
        "def routing_odd(state: State):\n",
        "    print(f\"routing_even :  {state['input']}\")\n",
        "\n",
        "    if state[\"input\"] == \"\":\n",
        "        return \"reject\"\n",
        "\n",
        "    crr_char = state[\"input\"][0]\n",
        "\n",
        "    if crr_char == \"1\":\n",
        "        return \"even_step\"\n",
        "    elif crr_char == \"0\":\n",
        "        return \"odd_step\"\n",
        "    else:\n",
        "        return \"reject\"\n",
        "\n",
        "graph_builder = StateGraph(State)\n",
        "\n",
        "graph_builder.add_node(\"odd\",       odd)\n",
        "graph_builder.add_node(\"even\",      even)\n",
        "graph_builder.add_node(\"odd_step\",  odd_step)\n",
        "graph_builder.add_node(\"even_step\", even_step)\n",
        "graph_builder.add_node(\"accept\",    accept)\n",
        "graph_builder.add_node(\"reject\",    reject)\n",
        "\n",
        "graph_builder.set_entry_point(\"odd\")\n",
        "graph_builder.set_finish_point(\"accept\")\n",
        "graph_builder.set_finish_point(\"reject\")\n",
        "\n",
        "graph_builder.add_conditional_edges(\n",
        "    source=\"even\",\n",
        "    path=routing_even,\n",
        "    path_map={\"accept\": \"accept\", \"reject\": \"reject\", \"even_step\": \"even_step\", \"odd_step\": \"odd_step\"},\n",
        ")\n",
        "graph_builder.add_conditional_edges(\n",
        "    source=\"odd\",\n",
        "    path=routing_odd,\n",
        "    path_map={\"reject\": \"reject\", \"even_step\": \"even_step\", \"odd_step\": \"odd_step\"},\n",
        ")\n",
        "graph_builder.add_edge(\"even_step\", \"even\")\n",
        "graph_builder.add_edge(\"odd_step\", \"odd\")\n",
        "\n",
        "graph = graph_builder.compile()"
      ],
      "metadata": {
        "id": "tqmtiCA5RdGO"
      },
      "execution_count": 3,
      "outputs": []
    },
    {
      "cell_type": "code",
      "source": [
        "graph.get_graph().print_ascii()"
      ],
      "metadata": {
        "colab": {
          "base_uri": "https://localhost:8080/"
        },
        "id": "JnaMCI7VP-OS",
        "outputId": "f581b73f-9160-48b3-9fb6-8d0ace05c466"
      },
      "execution_count": 4,
      "outputs": [
        {
          "output_type": "stream",
          "name": "stdout",
          "text": [
            "                            +-----------+                           \n",
            "                            | __start__ |                           \n",
            "                            +-----------+                           \n",
            "                                  *                                 \n",
            "                                  *                                 \n",
            "                                  *                                 \n",
            "                              +-----+                               \n",
            "                             .| odd |...                            \n",
            "                        ..... +-----+** .....                       \n",
            "                   .....      .        **    .....                  \n",
            "              .....          .           *        .....             \n",
            "           ...             ..             **           .....        \n",
            "+-----------+             .                 *               ...     \n",
            "| even_step |             .                 *                 .     \n",
            "+-----------+             .                 *                 .     \n",
            "      *                   .                 *                 .     \n",
            "      *                   .                 *                 .     \n",
            "      *                   .                 *                 .     \n",
            "  +------+.....           .                 *                 .     \n",
            "  | even |...  .........   ..             **                  .     \n",
            "  +------+.  .....      ..........       *                    .     \n",
            "           .      ....        .   .....**..                   .     \n",
            "            ..        .....    ..    **    .........          .     \n",
            "              .            ...   .  *               .....     .     \n",
            "           +--------+       +----------+                +--------+  \n",
            "           | accept |       | odd_step |               *| reject |  \n",
            "           +--------+***    +----------+           **** +--------+  \n",
            "                        ***                   *****                 \n",
            "                           ***            ****                      \n",
            "                              **       ***                          \n",
            "                            +---------+                             \n",
            "                            | __end__ |                             \n",
            "                            +---------+                             \n"
          ]
        }
      ]
    },
    {
      "cell_type": "code",
      "source": [
        "print(graph.get_graph().draw_mermaid())"
      ],
      "metadata": {
        "colab": {
          "base_uri": "https://localhost:8080/"
        },
        "id": "cdXT-hDUQOCy",
        "outputId": "2f895efd-3344-4798-c5b5-d48f0710ea80"
      },
      "execution_count": 5,
      "outputs": [
        {
          "output_type": "stream",
          "name": "stdout",
          "text": [
            "---\n",
            "config:\n",
            "  flowchart:\n",
            "    curve: linear\n",
            "---\n",
            "graph TD;\n",
            "\t__start__([<p>__start__</p>]):::first\n",
            "\todd(odd)\n",
            "\teven(even)\n",
            "\todd_step(odd_step)\n",
            "\teven_step(even_step)\n",
            "\taccept(accept)\n",
            "\treject(reject)\n",
            "\t__end__([<p>__end__</p>]):::last\n",
            "\t__start__ --> odd;\n",
            "\teven -.-> accept;\n",
            "\teven -.-> even_step;\n",
            "\teven -.-> odd_step;\n",
            "\teven -.-> reject;\n",
            "\teven_step --> even;\n",
            "\todd -.-> even_step;\n",
            "\todd -.-> odd_step;\n",
            "\todd -.-> reject;\n",
            "\todd_step --> odd;\n",
            "\taccept --> __end__;\n",
            "\treject --> __end__;\n",
            "\tclassDef default fill:#f2f0ff,line-height:1.2\n",
            "\tclassDef first fill-opacity:0\n",
            "\tclassDef last fill:#bfb6fc\n",
            "\n"
          ]
        }
      ]
    },
    {
      "cell_type": "code",
      "source": [
        "graph.invoke({\"input\": \"11\"})"
      ],
      "metadata": {
        "colab": {
          "base_uri": "https://localhost:8080/"
        },
        "id": "wqw4c7elPy65",
        "outputId": "f1956ed7-467b-4b6d-bc12-0ac14e65b765"
      },
      "execution_count": 6,
      "outputs": [
        {
          "output_type": "stream",
          "name": "stdout",
          "text": [
            "odd  :  11\n",
            "routing_even :  11\n",
            "even_step : 1\n",
            "even : 1\n",
            "routing_even :  1\n",
            "odd_step  :  \n",
            "odd  :  \n",
            "routing_even :  \n",
            "reject  :  \n"
          ]
        },
        {
          "output_type": "execute_result",
          "data": {
            "text/plain": [
              "{'input': '', 'state': 'reject'}"
            ]
          },
          "metadata": {},
          "execution_count": 6
        }
      ]
    },
    {
      "cell_type": "code",
      "source": [
        "graph.invoke({\"input\": \"1\"})"
      ],
      "metadata": {
        "colab": {
          "base_uri": "https://localhost:8080/"
        },
        "id": "i0o_nY3PeG_0",
        "outputId": "d69cf8f7-4baa-49c6-df40-398bc52a7e45"
      },
      "execution_count": 7,
      "outputs": [
        {
          "output_type": "stream",
          "name": "stdout",
          "text": [
            "odd  :  1\n",
            "routing_even :  1\n",
            "even_step : \n",
            "even : \n",
            "routing_even :  \n",
            "accept  :  \n"
          ]
        },
        {
          "output_type": "execute_result",
          "data": {
            "text/plain": [
              "{'input': '', 'state': 'accept'}"
            ]
          },
          "metadata": {},
          "execution_count": 7
        }
      ]
    },
    {
      "cell_type": "code",
      "source": [
        "graph.invoke({\"input\": \"11111\"})"
      ],
      "metadata": {
        "colab": {
          "base_uri": "https://localhost:8080/"
        },
        "id": "NB6lV7Ige_TR",
        "outputId": "34d6b81e-bccb-4171-b05c-59024f6f4bba"
      },
      "execution_count": 8,
      "outputs": [
        {
          "output_type": "stream",
          "name": "stdout",
          "text": [
            "odd  :  11111\n",
            "routing_even :  11111\n",
            "even_step : 1111\n",
            "even : 1111\n",
            "routing_even :  1111\n",
            "odd_step  :  111\n",
            "odd  :  111\n",
            "routing_even :  111\n",
            "even_step : 11\n",
            "even : 11\n",
            "routing_even :  11\n",
            "odd_step  :  1\n",
            "odd  :  1\n",
            "routing_even :  1\n",
            "even_step : \n",
            "even : \n",
            "routing_even :  \n",
            "accept  :  \n"
          ]
        },
        {
          "output_type": "execute_result",
          "data": {
            "text/plain": [
              "{'input': '', 'state': 'accept'}"
            ]
          },
          "metadata": {},
          "execution_count": 8
        }
      ]
    },
    {
      "cell_type": "code",
      "source": [
        "graph.invoke({\"input\": \"1a\"})"
      ],
      "metadata": {
        "colab": {
          "base_uri": "https://localhost:8080/"
        },
        "id": "CxZ7VRz4fBcr",
        "outputId": "2a04facd-ecf5-4fdb-a874-03571c638a8c"
      },
      "execution_count": 9,
      "outputs": [
        {
          "output_type": "stream",
          "name": "stdout",
          "text": [
            "odd  :  1a\n",
            "routing_even :  1a\n",
            "even_step : a\n",
            "even : a\n",
            "routing_even :  a\n",
            "reject  :  a\n"
          ]
        },
        {
          "output_type": "execute_result",
          "data": {
            "text/plain": [
              "{'input': '', 'state': 'reject'}"
            ]
          },
          "metadata": {},
          "execution_count": 9
        }
      ]
    }
  ]
}